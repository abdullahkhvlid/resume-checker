{
  "nbformat": 4,
  "nbformat_minor": 0,
  "metadata": {
    "colab": {
      "provenance": []
    },
    "kernelspec": {
      "name": "python3",
      "display_name": "Python 3"
    },
    "language_info": {
      "name": "python"
    }
  },
  "cells": [
    {
      "cell_type": "code",
      "execution_count": 21,
      "metadata": {
        "id": "qKKecMbVn1iT",
        "colab": {
          "base_uri": "https://localhost:8080/"
        },
        "outputId": "294845b1-c874-4626-821e-f2453abdefdc"
      },
      "outputs": [
        {
          "output_type": "stream",
          "name": "stdout",
          "text": [
            "Upload then enter name of your file in '.txt' format: sampleresume.txt\n",
            "file accepted\n",
            "the matched skills are ['Data science', 'Pandas', 'Numpy', 'SQL', 'Machine learning']\n",
            "you have 5 skills matched\n",
            "skills matched are less then 80%\n",
            "we are sorry, you are not qualified for this job\n"
          ]
        }
      ],
      "source": [
        "try:\n",
        "  user = input(\"Upload then enter name of your file in '.txt' format: \")\n",
        "  with open(user, \"r\") as f:\n",
        "    v = f.read()\n",
        "    if v ==\"\":\n",
        "      print(\"file is empty\")\n",
        "\n",
        "    else:\n",
        "      print(\"file accepted\")\n",
        "\n",
        "    reqskills= [\"Data science\", \"Django\", \"Generative AI\", \"Pandas\", \"Numpy\", \"logic building\", \"SQL\", \"Machine learning\", \"MLOps\"]\n",
        "    macthedskills =[]\n",
        "\n",
        "    for i in reqskills:\n",
        "      if i.lower() in v.lower():\n",
        "        macthedskills.append(i)\n",
        "\n",
        "      else:\n",
        "        continue\n",
        "\n",
        "    print(f\"the matched skills are {macthedskills}\")\n",
        "\n",
        "    percentmatched = len(macthedskills)\n",
        "    print(f\"you have {percentmatched} skills matched\")\n",
        "\n",
        "    if percentmatched == 0:\n",
        "      print(\"skills matched are 0%\")\n",
        "\n",
        "    elif percentmatched <= 4:\n",
        "      print(\"skills matched are less then 40%\")\n",
        "\n",
        "    elif percentmatched <= 7:\n",
        "      print(\"skills matched are less then 80%\")\n",
        "\n",
        "    elif percentmatched == 9:\n",
        "      print(\"skills matched are 100%\")\n",
        "\n",
        "    if sorted(reqskills) == sorted(macthedskills):\n",
        "      print(\"Congratulations! you are qualified\")\n",
        "\n",
        "    else:\n",
        "      print(\"we are sorry, you are not qualified for this job\")\n",
        "\n",
        "\n",
        "\n",
        "\n",
        "\n",
        "except:\n",
        "  print(\"Invalid value\")\n"
      ]
    }
  ]
}